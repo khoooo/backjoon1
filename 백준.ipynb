{
 "cells": [
  {
   "cell_type": "code",
   "execution_count": 15,
   "id": "ce52625e",
   "metadata": {},
   "outputs": [
    {
     "name": "stdout",
     "output_type": "stream",
     "text": [
      "1 2\n",
      "3\n"
     ]
    }
   ],
   "source": [
    "# 백준 1000\n",
    "# 두 정수 A와 B를 입력받은 다음, A+B를 출력하는 프로그램을 작성하시오.\n",
    "\n",
    "\n",
    "A, B = input().split()\n",
    "print(int(A)+int(B))"
   ]
  },
  {
   "cell_type": "code",
   "execution_count": 17,
   "id": "c496ae60",
   "metadata": {},
   "outputs": [
    {
     "name": "stdout",
     "output_type": "stream",
     "text": [
      "1 2\n",
      "-1\n"
     ]
    }
   ],
   "source": [
    "# 백준 1001\n",
    "# 두 정수 A와 B를 입력받은 다음, A-B를 출력하는 프로그램을 작성하시오.\n",
    "\n",
    "A, B = input().split()\n",
    "print(int(A)-int(B))"
   ]
  },
  {
   "cell_type": "code",
   "execution_count": 20,
   "id": "818a81ea",
   "metadata": {},
   "outputs": [
    {
     "name": "stdout",
     "output_type": "stream",
     "text": [
      "1 3\n",
      "0.3333333333333333\n"
     ]
    }
   ],
   "source": [
    "# 백준 1008\n",
    "# 두 정수 A와 B를 입력받은 다음, A/B를 출력하는 프로그램을 작성하시오.\n",
    "\n",
    "A, B = input().split()\n",
    "print(int(A)/int(B))"
   ]
  },
  {
   "cell_type": "code",
   "execution_count": 24,
   "id": "a5831e05",
   "metadata": {},
   "outputs": [
    {
     "name": "stdout",
     "output_type": "stream",
     "text": [
      "7 3\n",
      "10\n",
      "4\n",
      "21\n",
      "2\n",
      "1\n"
     ]
    }
   ],
   "source": [
    "# 백준 10869\n",
    "# 두 자연수 A와 B가 주어진다. 이때, A+B, A-B, A*B, A/B(몫), A%B(나머지)를 출력하는 프로그램을 작성하시오. \n",
    "\n",
    "A, B = input().split()\n",
    "print(int(A)+int(B))\n",
    "print(int(A)-int(B))\n",
    "print(int(A)*int(B))\n",
    "print(int(A)//int(B))     # 자연수로 나타내려면 몫을 내거나\n",
    "print(int(int(A)/int(B))) # 전체 int를 씌워야 함.\n",
    "print(int(A)%int(B))"
   ]
  },
  {
   "cell_type": "code",
   "execution_count": 34,
   "id": "c4183fa3",
   "metadata": {},
   "outputs": [
    {
     "name": "stdout",
     "output_type": "stream",
     "text": [
      "joonas\n",
      "joonas??!\n"
     ]
    }
   ],
   "source": [
    "# 백준 10926\n",
    "# 준하는 사이트에 회원가입을 하다가 joonas라는 아이디가 이미 존재하는 것을 보고 놀랐다. \n",
    "# 준하는 놀람을 ??!로 표현한다. \n",
    "# 준하가 가입하려고 하는 사이트에 이미 존재하는 아이디가 주어졌을 때, 놀람을 표현하는 프로그램을 작성하시오.\n",
    "\n",
    "\n",
    "# A = input()\n",
    "# if A == 'joonas':\n",
    "\n",
    "print(input()+'??!')\n"
   ]
  },
  {
   "cell_type": "code",
   "execution_count": 40,
   "id": "9863dc9a",
   "metadata": {},
   "outputs": [
    {
     "name": "stdout",
     "output_type": "stream",
     "text": [
      "2541\n",
      "1998\n"
     ]
    }
   ],
   "source": [
    "# 백준 18108\n",
    "y = input()\n",
    "print(int(y)-543)"
   ]
  },
  {
   "cell_type": "code",
   "execution_count": 46,
   "id": "08ec3dc3",
   "metadata": {},
   "outputs": [
    {
     "name": "stdout",
     "output_type": "stream",
     "text": [
      "5 8 4\n",
      "1\n",
      "1\n",
      "0\n",
      "0\n"
     ]
    }
   ],
   "source": [
    "# 백준 10430\n",
    "A, B, C = input().split()\n",
    "A = int(A)\n",
    "B = int(B)\n",
    "C = int(C)\n",
    "\n",
    "print((A+B)%C)\n",
    "print(((A%C)+(B%C))%C)\n",
    "print((A*B)%C)\n",
    "print(((A%C)*(B%C))%C)"
   ]
  },
  {
   "cell_type": "code",
   "execution_count": 53,
   "id": "d287dfac",
   "metadata": {},
   "outputs": [
    {
     "name": "stdout",
     "output_type": "stream",
     "text": [
      "472\n",
      "385\n",
      "2360\n",
      "3776\n",
      "1416\n",
      "181720\n"
     ]
    }
   ],
   "source": [
    "#백준 2588\n",
    "A = int(input())\n",
    "B = input()\n",
    "\n",
    "for i in range(len(B), 0, -1):\n",
    "    print(A * int(B[i-1]))\n",
    "    \n",
    "print(A * int(B))"
   ]
  },
  {
   "cell_type": "code",
   "execution_count": 62,
   "id": "fbf94563",
   "metadata": {},
   "outputs": [
    {
     "name": "stdout",
     "output_type": "stream",
     "text": [
      "1000\n",
      "0\n",
      "1\n",
      "2\n",
      "3\n"
     ]
    }
   ],
   "source": [
    "b = input()\n",
    "\n",
    "for i in range(0, len(b), 1):\n",
    "    print(i)"
   ]
  },
  {
   "cell_type": "markdown",
   "id": "f5b89bf5",
   "metadata": {},
   "source": [
    "---------"
   ]
  },
  {
   "cell_type": "code",
   "execution_count": 8,
   "id": "5657611b",
   "metadata": {},
   "outputs": [
    {
     "name": "stdout",
     "output_type": "stream",
     "text": [
      "ㄴ ㄴ\n",
      "==\n"
     ]
    }
   ],
   "source": [
    "# 1330\n",
    "# 두 정수 A와 B가 주어졌을 때, A와 B를 비교하는 프로그램을 작성하시오.\n",
    "\n",
    "A, B = map(int, input().split())\n",
    "\n",
    "\n",
    "if A > B:\n",
    "    print('>')\n",
    "elif A < B:\n",
    "    print('<')\n",
    "else :\n",
    "    print('==')\n"
   ]
  },
  {
   "cell_type": "code",
   "execution_count": 18,
   "id": "be42c8b7",
   "metadata": {},
   "outputs": [
    {
     "name": "stdout",
     "output_type": "stream",
     "text": [
      "0\n",
      "F\n"
     ]
    }
   ],
   "source": [
    "# 9498\n",
    "# 시험 점수를 입력받아 90 ~ 100점은 A, 80 ~ 89점은 B, 70 ~ 79점은 C, 60 ~ 69점은 D, 나머지 점수는 F를 출력하는 프로그램을 작성하시오.\n",
    "\n",
    "a = input()\n",
    "a = int(a)\n",
    "\n",
    "if a >= 90:\n",
    "    print('A')\n",
    "elif a >= 80 :\n",
    "    print('B')\n",
    "elif a >= 70 :\n",
    "    print('C')\n",
    "elif a >= 60 :\n",
    "    print('D')\n",
    "else :\n",
    "    print('F')"
   ]
  },
  {
   "cell_type": "code",
   "execution_count": 28,
   "id": "57db0a1e",
   "metadata": {},
   "outputs": [
    {
     "name": "stdout",
     "output_type": "stream",
     "text": [
      "1999\n",
      "0\n"
     ]
    }
   ],
   "source": [
    "# 2753\n",
    "# 연도가 주어졌을 때, 윤년이면 1, 아니면 0을 출력하는 프로그램을 작성하시오.\n",
    "\n",
    "a = input()\n",
    "a = int(a)\n",
    "\n",
    "if (a%4==0) & (a%100!=0) | (a%400==0):\n",
    "    print(1)\n",
    "else :\n",
    "    print(0)\n",
    "    "
   ]
  },
  {
   "cell_type": "code",
   "execution_count": 37,
   "id": "40dd739b",
   "metadata": {},
   "outputs": [
    {
     "name": "stdout",
     "output_type": "stream",
     "text": [
      "9\n",
      "14\n",
      "1\n"
     ]
    }
   ],
   "source": [
    "# 14681\n",
    "# 점의 좌표를 입력받아 그 점이 어느 사분면에 속하는지 알아내는 프로그램을 작성하시오. 단, x좌표와 y좌표는 모두 양수나 음수라고 가정한다.\n",
    "\n",
    "\n",
    "x = int(input())\n",
    "y = int(input())\n",
    "\n",
    "if (x>0) & (y>0) :\n",
    "    print(1)\n",
    "elif (x<0) & (y>0) :\n",
    "    print(2)\n",
    "elif (x<0) & (y<0) :\n",
    "    print(3)\n",
    "else :\n",
    "    print(4)"
   ]
  },
  {
   "cell_type": "code",
   "execution_count": 44,
   "id": "fa233983",
   "metadata": {},
   "outputs": [
    {
     "name": "stdout",
     "output_type": "stream",
     "text": [
      "0 15\n",
      "23 30\n"
     ]
    }
   ],
   "source": [
    "# 2884\n",
    "\n",
    "h, m = map(int, input().split())\n",
    "\n",
    "if m>=45 :\n",
    "    print(h, m-45)\n",
    "elif (h>0) & (m<45) :\n",
    "    print(h-1, m+15)\n",
    "else :\n",
    "    print(23, m+15)"
   ]
  },
  {
   "cell_type": "code",
   "execution_count": 55,
   "id": "6a34d09c",
   "metadata": {},
   "outputs": [
    {
     "name": "stdout",
     "output_type": "stream",
     "text": [
      "23 48\n",
      "20\n",
      "0 8\n"
     ]
    }
   ],
   "source": [
    "# 2525\n",
    "h, m =map(int, input().split())\n",
    "a = int(input())\n",
    "\n",
    "h += a // 60\n",
    "m += a % 60\n",
    "\n",
    "if m >= 60 :\n",
    "    h += 1\n",
    "    m -= 60\n",
    "if h >= 24 :\n",
    "    h -= 24\n",
    "    \n",
    "print(h, m)"
   ]
  },
  {
   "cell_type": "code",
   "execution_count": 63,
   "id": "109e73d9",
   "metadata": {},
   "outputs": [
    {
     "name": "stdout",
     "output_type": "stream",
     "text": [
      "6 2 5\n",
      "600\n"
     ]
    }
   ],
   "source": [
    "# 2480\n",
    "\n",
    "a,b,c = map(int, input().split())\n",
    "\n",
    "A = (a==b)\n",
    "B = (a==c)\n",
    "C = (b==c)\n",
    "\n",
    "if A & B & C :\n",
    "    print(10000 + a*1000)\n",
    "elif A :\n",
    "    print(1000 + a*100)\n",
    "elif B :\n",
    "    print(1000 + c*100)\n",
    "elif C :\n",
    "    print(1000 + b*100)\n",
    "else :\n",
    "    print(100 * max(a,b,c))"
   ]
  },
  {
   "cell_type": "code",
   "execution_count": 5,
   "id": "7cb03487",
   "metadata": {},
   "outputs": [
    {
     "name": "stdout",
     "output_type": "stream",
     "text": [
      "2\n",
      "2 * 1 = 2\n",
      "2 * 2 = 4\n",
      "2 * 3 = 6\n",
      "2 * 4 = 8\n",
      "2 * 5 = 10\n",
      "2 * 6 = 12\n",
      "2 * 7 = 14\n",
      "2 * 8 = 16\n",
      "2 * 9 = 18\n"
     ]
    }
   ],
   "source": [
    "# 2739\n",
    "\n",
    "a = int(input())\n",
    "\n",
    "for i in range(1,10,1):\n",
    "    print(a,'*',i,'=',a*i)"
   ]
  },
  {
   "cell_type": "code",
   "execution_count": 8,
   "id": "041d63de",
   "metadata": {},
   "outputs": [
    {
     "name": "stdout",
     "output_type": "stream",
     "text": [
      "5\n",
      "2 3\n",
      "5\n",
      "4 2\n",
      "6\n",
      "3 1\n",
      "4\n",
      "2 4\n",
      "6\n",
      "3 2\n",
      "5\n"
     ]
    }
   ],
   "source": [
    "# 10950\n",
    "\n",
    "t = int(input())\n",
    "\n",
    "for _ in range(t):\n",
    "    a, b = map(int, input().split())\n",
    "    print(a+b)"
   ]
  },
  {
   "cell_type": "code",
   "execution_count": 21,
   "id": "4e4d5391",
   "metadata": {},
   "outputs": [
    {
     "name": "stdout",
     "output_type": "stream",
     "text": [
      "10\n",
      "55\n"
     ]
    }
   ],
   "source": [
    "# 8393\n",
    "\n",
    "a = int(input())\n",
    "b = 0\n",
    "\n",
    "for i in range(1,a+1,1):\n",
    "    b = b+i\n",
    "\n",
    "print(b)"
   ]
  },
  {
   "cell_type": "code",
   "execution_count": 33,
   "id": "0d52c7ae",
   "metadata": {},
   "outputs": [
    {
     "name": "stdout",
     "output_type": "stream",
     "text": [
      "2\n"
     ]
    },
    {
     "ename": "ValueError",
     "evalue": "not enough values to unpack (expected 2, got 0)",
     "output_type": "error",
     "traceback": [
      "\u001b[1;31m---------------------------------------------------------------------------\u001b[0m",
      "\u001b[1;31mValueError\u001b[0m                                Traceback (most recent call last)",
      "\u001b[1;32m<ipython-input-33-7d8792e78ceb>\u001b[0m in \u001b[0;36m<module>\u001b[1;34m\u001b[0m\n\u001b[0;32m      5\u001b[0m \u001b[1;33m\u001b[0m\u001b[0m\n\u001b[0;32m      6\u001b[0m \u001b[1;32mfor\u001b[0m \u001b[0m_\u001b[0m \u001b[1;32min\u001b[0m \u001b[0mrange\u001b[0m\u001b[1;33m(\u001b[0m\u001b[0mt\u001b[0m\u001b[1;33m)\u001b[0m\u001b[1;33m:\u001b[0m\u001b[1;33m\u001b[0m\u001b[1;33m\u001b[0m\u001b[0m\n\u001b[1;32m----> 7\u001b[1;33m     \u001b[0ma\u001b[0m\u001b[1;33m,\u001b[0m \u001b[0mb\u001b[0m \u001b[1;33m=\u001b[0m \u001b[0mmap\u001b[0m\u001b[1;33m(\u001b[0m\u001b[0mint\u001b[0m\u001b[1;33m,\u001b[0m \u001b[0msys\u001b[0m\u001b[1;33m.\u001b[0m\u001b[0mstdin\u001b[0m\u001b[1;33m.\u001b[0m\u001b[0mreadline\u001b[0m\u001b[1;33m(\u001b[0m\u001b[1;33m)\u001b[0m\u001b[1;33m.\u001b[0m\u001b[0msplit\u001b[0m\u001b[1;33m(\u001b[0m\u001b[1;33m)\u001b[0m\u001b[1;33m)\u001b[0m\u001b[1;33m\u001b[0m\u001b[1;33m\u001b[0m\u001b[0m\n\u001b[0m\u001b[0;32m      8\u001b[0m     \u001b[0mprint\u001b[0m\u001b[1;33m(\u001b[0m\u001b[0ma\u001b[0m\u001b[1;33m+\u001b[0m\u001b[0mb\u001b[0m\u001b[1;33m)\u001b[0m\u001b[1;33m\u001b[0m\u001b[1;33m\u001b[0m\u001b[0m\n",
      "\u001b[1;31mValueError\u001b[0m: not enough values to unpack (expected 2, got 0)"
     ]
    }
   ],
   "source": [
    "# 15552\n",
    "import sys\n",
    "\n",
    "t = int(input())\n",
    "\n",
    "for _ in range(t):\n",
    "    a, b = map(int, sys.stdin.readline().split())\n",
    "    print(a+b)"
   ]
  },
  {
   "cell_type": "code",
   "execution_count": 39,
   "id": "d124f0ab",
   "metadata": {},
   "outputs": [
    {
     "name": "stdout",
     "output_type": "stream",
     "text": [
      "5\n",
      "1\n",
      "2\n",
      "3\n",
      "4\n",
      "5\n"
     ]
    }
   ],
   "source": [
    "#2741\n",
    "\n",
    "a = int(input())\n",
    "\n",
    "for i in range(1,a+1,1):\n",
    "    a += i\n",
    "    print(i)"
   ]
  },
  {
   "cell_type": "code",
   "execution_count": 41,
   "id": "04eeec3d",
   "metadata": {},
   "outputs": [
    {
     "name": "stdout",
     "output_type": "stream",
     "text": [
      "5\n",
      "5\n",
      "4\n",
      "3\n",
      "2\n",
      "1\n"
     ]
    }
   ],
   "source": [
    "# 2742\n",
    "\n",
    "a = int(input())\n",
    "\n",
    "for i in range(a,0,-1):\n",
    "    print(i)"
   ]
  },
  {
   "cell_type": "code",
   "execution_count": 50,
   "id": "910102ea",
   "metadata": {},
   "outputs": [
    {
     "name": "stdout",
     "output_type": "stream",
     "text": [
      "5\n",
      "1 1\n",
      "Case #1: 2\n",
      "2 1\n",
      "Case #2: 3\n",
      "5 7\n",
      "Case #3: 12\n",
      "9 8\n",
      "Case #4: 17\n",
      "3 2\n",
      "Case #5: 5\n"
     ]
    }
   ],
   "source": [
    "#11021\n",
    "\n",
    "t = int(input())\n",
    "\n",
    "for i in range(1,t+1,1):\n",
    "    a, b = map(int, input().split())\n",
    "    print(f'Case #{i}: {a+b}')"
   ]
  },
  {
   "cell_type": "code",
   "execution_count": 53,
   "id": "fa320cdd",
   "metadata": {
    "scrolled": true
   },
   "outputs": [
    {
     "name": "stdout",
     "output_type": "stream",
     "text": [
      "5\n",
      "3 1\n",
      "Case #1: 3+1=4\n",
      "1 1\n",
      "Case #2: 1+1=2\n",
      "2 4\n",
      "Case #3: 2+4=6\n",
      "3 5\n",
      "Case #4: 3+5=8\n",
      "4 2\n",
      "Case #5: 4+2=6\n"
     ]
    }
   ],
   "source": [
    "# 11022\n",
    "\n",
    "t = int(input())\n",
    "\n",
    "for i in range(1,t+1,1):\n",
    "    a,b = map(int, input().split())\n",
    "    print(f'Case #{i}: {a} + {b} = {a+b}')"
   ]
  },
  {
   "cell_type": "code",
   "execution_count": 57,
   "id": "4c719d33",
   "metadata": {},
   "outputs": [
    {
     "name": "stdout",
     "output_type": "stream",
     "text": [
      "3\n",
      "*\n",
      "**\n",
      "***\n"
     ]
    }
   ],
   "source": [
    "# 2438\n",
    "\n",
    "t = int(input())\n",
    "\n",
    "for i in range(1,t+1,1):\n",
    "    print('*'*i)"
   ]
  },
  {
   "cell_type": "code",
   "execution_count": 72,
   "id": "d3be04da",
   "metadata": {},
   "outputs": [
    {
     "name": "stdout",
     "output_type": "stream",
     "text": [
      "5\n",
      "    *\n",
      "   **\n",
      "  ***\n",
      " ****\n",
      "*****\n"
     ]
    }
   ],
   "source": [
    "# 2439\n",
    "\n",
    "t = int(input())\n",
    "\n",
    "for i in range(1,t+1,1):\n",
    "    print(' '*(t-i) + '*'*i)"
   ]
  },
  {
   "cell_type": "code",
   "execution_count": 79,
   "id": "53c61ab1",
   "metadata": {},
   "outputs": [
    {
     "name": "stdout",
     "output_type": "stream",
     "text": [
      "10 5\n",
      "1 10 4 9 2 3 8 5 7 6\n",
      "1 4 2 3 "
     ]
    }
   ],
   "source": [
    "# 10871\n",
    "\n",
    "n, x = map(int, input().split())\n",
    "a = list(map(int, input().split()))\n",
    "\n",
    "for i in range(0,n,1):\n",
    "    if a[i] < x :\n",
    "        print(a[i], end=' ')"
   ]
  },
  {
   "cell_type": "code",
   "execution_count": 84,
   "id": "30a3fc97",
   "metadata": {},
   "outputs": [
    {
     "name": "stdout",
     "output_type": "stream",
     "text": [
      "5 2\n",
      "7\n",
      "4 2\n",
      "6\n",
      "3 1\n",
      "4\n",
      "3 2\n",
      "5\n",
      "3 5\n",
      "8\n",
      "0 0\n"
     ]
    }
   ],
   "source": [
    "# 10952\n",
    "\n",
    "while True:\n",
    "    a, b = map(int, input().split())\n",
    "    if a == 0 & b == 0 :\n",
    "        break;\n",
    "    print(a+b)"
   ]
  },
  {
   "cell_type": "markdown",
   "id": "0ae309bd",
   "metadata": {},
   "source": [
    "## "
   ]
  }
 ],
 "metadata": {
  "kernelspec": {
   "display_name": "Python 3",
   "language": "python",
   "name": "python3"
  },
  "language_info": {
   "codemirror_mode": {
    "name": "ipython",
    "version": 3
   },
   "file_extension": ".py",
   "mimetype": "text/x-python",
   "name": "python",
   "nbconvert_exporter": "python",
   "pygments_lexer": "ipython3",
   "version": "3.8.8"
  }
 },
 "nbformat": 4,
 "nbformat_minor": 5
}
