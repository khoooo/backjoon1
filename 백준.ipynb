{
 "cells": [
  {
   "cell_type": "code",
   "execution_count": 15,
   "id": "ce52625e",
   "metadata": {},
   "outputs": [
    {
     "name": "stdout",
     "output_type": "stream",
     "text": [
      "1 2\n",
      "3\n"
     ]
    }
   ],
   "source": [
    "# 백준 1000\n",
    "# 두 정수 A와 B를 입력받은 다음, A+B를 출력하는 프로그램을 작성하시오.\n",
    "\n",
    "\n",
    "A, B = input().split()\n",
    "print(int(A)+int(B))"
   ]
  },
  {
   "cell_type": "code",
   "execution_count": 17,
   "id": "c496ae60",
   "metadata": {},
   "outputs": [
    {
     "name": "stdout",
     "output_type": "stream",
     "text": [
      "1 2\n",
      "-1\n"
     ]
    }
   ],
   "source": [
    "# 백준 1001\n",
    "# 두 정수 A와 B를 입력받은 다음, A-B를 출력하는 프로그램을 작성하시오.\n",
    "\n",
    "A, B = input().split()\n",
    "print(int(A)-int(B))"
   ]
  },
  {
   "cell_type": "code",
   "execution_count": 20,
   "id": "818a81ea",
   "metadata": {},
   "outputs": [
    {
     "name": "stdout",
     "output_type": "stream",
     "text": [
      "1 3\n",
      "0.3333333333333333\n"
     ]
    }
   ],
   "source": [
    "# 백준 1008\n",
    "# 두 정수 A와 B를 입력받은 다음, A/B를 출력하는 프로그램을 작성하시오.\n",
    "\n",
    "A, B = input().split()\n",
    "print(int(A)/int(B))"
   ]
  },
  {
   "cell_type": "code",
   "execution_count": 24,
   "id": "a5831e05",
   "metadata": {},
   "outputs": [
    {
     "name": "stdout",
     "output_type": "stream",
     "text": [
      "7 3\n",
      "10\n",
      "4\n",
      "21\n",
      "2\n",
      "1\n"
     ]
    }
   ],
   "source": [
    "# 백준 10869\n",
    "# 두 자연수 A와 B가 주어진다. 이때, A+B, A-B, A*B, A/B(몫), A%B(나머지)를 출력하는 프로그램을 작성하시오. \n",
    "\n",
    "A, B = input().split()\n",
    "print(int(A)+int(B))\n",
    "print(int(A)-int(B))\n",
    "print(int(A)*int(B))\n",
    "print(int(A)//int(B))     # 자연수로 나타내려면 몫을 내거나\n",
    "print(int(int(A)/int(B))) # 전체 int를 씌워야 함.\n",
    "print(int(A)%int(B))"
   ]
  },
  {
   "cell_type": "code",
   "execution_count": 34,
   "id": "c4183fa3",
   "metadata": {},
   "outputs": [
    {
     "name": "stdout",
     "output_type": "stream",
     "text": [
      "joonas\n",
      "joonas??!\n"
     ]
    }
   ],
   "source": [
    "# 백준 10926\n",
    "# 준하는 사이트에 회원가입을 하다가 joonas라는 아이디가 이미 존재하는 것을 보고 놀랐다. \n",
    "# 준하는 놀람을 ??!로 표현한다. \n",
    "# 준하가 가입하려고 하는 사이트에 이미 존재하는 아이디가 주어졌을 때, 놀람을 표현하는 프로그램을 작성하시오.\n",
    "\n",
    "\n",
    "# A = input()\n",
    "# if A == 'joonas':\n",
    "\n",
    "print(input()+'??!')\n"
   ]
  },
  {
   "cell_type": "code",
   "execution_count": 40,
   "id": "9863dc9a",
   "metadata": {},
   "outputs": [
    {
     "name": "stdout",
     "output_type": "stream",
     "text": [
      "2541\n",
      "1998\n"
     ]
    }
   ],
   "source": [
    "# 백준 18108\n",
    "y = input()\n",
    "print(int(y)-543)"
   ]
  },
  {
   "cell_type": "code",
   "execution_count": 46,
   "id": "08ec3dc3",
   "metadata": {},
   "outputs": [
    {
     "name": "stdout",
     "output_type": "stream",
     "text": [
      "5 8 4\n",
      "1\n",
      "1\n",
      "0\n",
      "0\n"
     ]
    }
   ],
   "source": [
    "# 백준 10430\n",
    "A, B, C = input().split()\n",
    "A = int(A)\n",
    "B = int(B)\n",
    "C = int(C)\n",
    "\n",
    "print((A+B)%C)\n",
    "print(((A%C)+(B%C))%C)\n",
    "print((A*B)%C)\n",
    "print(((A%C)*(B%C))%C)"
   ]
  },
  {
   "cell_type": "code",
   "execution_count": 53,
   "id": "d287dfac",
   "metadata": {},
   "outputs": [
    {
     "name": "stdout",
     "output_type": "stream",
     "text": [
      "472\n",
      "385\n",
      "2360\n",
      "3776\n",
      "1416\n",
      "181720\n"
     ]
    }
   ],
   "source": [
    "#백준 2588\n",
    "A = int(input())\n",
    "B = input()\n",
    "\n",
    "for i in range(len(B), 0, -1):\n",
    "    print(A * int(B[i-1]))\n",
    "    \n",
    "print(A * int(B))"
   ]
  },
  {
   "cell_type": "code",
   "execution_count": 62,
   "id": "fbf94563",
   "metadata": {},
   "outputs": [
    {
     "name": "stdout",
     "output_type": "stream",
     "text": [
      "1000\n",
      "0\n",
      "1\n",
      "2\n",
      "3\n"
     ]
    }
   ],
   "source": [
    "b = input()\n",
    "\n",
    "for i in range(0, len(b), 1):\n",
    "    print(i)"
   ]
  },
  {
   "cell_type": "code",
   "execution_count": null,
   "id": "c4b57e36",
   "metadata": {},
   "outputs": [],
   "source": []
  }
 ],
 "metadata": {
  "kernelspec": {
   "display_name": "Python 3",
   "language": "python",
   "name": "python3"
  },
  "language_info": {
   "codemirror_mode": {
    "name": "ipython",
    "version": 3
   },
   "file_extension": ".py",
   "mimetype": "text/x-python",
   "name": "python",
   "nbconvert_exporter": "python",
   "pygments_lexer": "ipython3",
   "version": "3.8.8"
  }
 },
 "nbformat": 4,
 "nbformat_minor": 5
}
